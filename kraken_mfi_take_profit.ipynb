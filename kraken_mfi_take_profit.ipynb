{
 "cells": [
  {
   "cell_type": "code",
   "execution_count": 3,
   "id": "81e6cd0c-5187-4b94-a0f3-e23ebb3718ae",
   "metadata": {},
   "outputs": [],
   "source": [
    "import pandas as pd\n",
    "import numpy as np\n",
    "from sklearn.model_selection import train_test_split\n",
    "from sklearn.linear_model import LogisticRegression\n",
    "from sklearn import metrics\n",
    "import matplotlib.pyplot as plt\n",
    "import krakenex\n",
    "from pykrakenapi import KrakenAPI\n",
    "import datetime as dt\n",
    "from datetime import datetime, timezone\n",
    "import pytz\n",
    "import string\n",
    "import time\n",
    "\n",
    "import sqlite3\n",
    "conn = sqlite3.connect('<your_SQLlite_db>')\n",
    "\n",
    "\n",
    "api = krakenex.API(key='<your_key>',secret='<your_secret>')\n",
    "k = KrakenAPI(api)\n",
    "\n",
    "#symbol = 'ETH'\n",
    "#symbol = 'BTC'\n",
    "symbol = 'ADA'\n",
    "#symbol = 'ALGO'\n",
    "\n",
    "base = 'USDT'\n",
    "base_alt = 'USDT'\n",
    "pricebase = 'USD'\n",
    "\n",
    "avail_limit = 10\n",
    "\n",
    "time.sleep(20)"
   ]
  },
  {
   "cell_type": "code",
   "execution_count": 4,
   "id": "69d5650d-10b8-479e-9c21-f0f60e07a9f2",
   "metadata": {},
   "outputs": [
    {
     "name": "stdout",
     "output_type": "stream",
     "text": [
      "ADA - 2022-02-15 12:17:17.545606-08:00\n",
      "                   vol\n",
      "USD.HOLD  0.000000e+00\n",
      "ADA       0.000000e+00\n",
      "XETH      9.000000e-09\n",
      "ALGO      0.000000e+00\n",
      "USDT      1.656346e+02\n"
     ]
    }
   ],
   "source": [
    "fiveago = dt.datetime.now(pytz.timezone('US/Pacific')) - dt.timedelta(minutes=0)\n",
    "print(symbol+\" - \"+str(fiveago))\n",
    "wallet = k.get_account_balance()\n",
    "print(wallet)\n",
    "op_active = False"
   ]
  },
  {
   "cell_type": "code",
   "execution_count": 5,
   "id": "594f5182-08e7-4d2b-8d32-7db72d9f7de2",
   "metadata": {},
   "outputs": [
    {
     "name": "stdout",
     "output_type": "stream",
     "text": [
      "No Active operations\n"
     ]
    }
   ],
   "source": [
    "ret = conn.execute('''SELECT rowid,* from active_operations where active = 1 and symbol = 'ADA' order by timestamp desc limit 1;''')\n",
    "for row in ret:\n",
    "    print('ID: ',row[0])\n",
    "    print('TS: ',row[1])\n",
    "    print('SY: ',row[2])\n",
    "    print('PR: ',row[3])\n",
    "    print('BS: ',row[4])\n",
    "    op_active = True\n",
    "if op_active == False:\n",
    "    print(\"No Active operations\")"
   ]
  },
  {
   "cell_type": "code",
   "execution_count": 6,
   "id": "a79314a8-4175-4eb2-86fd-817981e0fd7b",
   "metadata": {},
   "outputs": [],
   "source": [
    "if (op_active and round(dt.datetime.now().timestamp()) - row[1] > 900):\n",
    "    ticker = k.get_ticker_information(symbol+base)\n",
    "    print(ticker)\n",
    "    sell_price = str(max(float(ticker['b'][0][0]),float(float(ticker['a'][0][0]))))\n",
    "    ord_vol = str(float(wallet.loc[symbol,'vol']))\n",
    "    print(str(ord_vol))\n",
    "    my_order = k.add_standard_order(symbol+base, type='sell',ordertype='limit',volume=ord_vol,price=sell_price,validate=False)\n",
    "    print(my_order)\n",
    "    act_op_query = string.Template(\"UPDATE active_operations SET active = 0 WHERE rowid = $myid;\")\n",
    "    generate_query = act_op_query.substitute(myid=row[0])\n",
    "    print(generate_query)\n",
    "    conn.execute(generate_query)\n",
    "    conn.commit()\n"
   ]
  },
  {
   "cell_type": "code",
   "execution_count": null,
   "id": "b8477ea2-686c-4ebf-8ed1-218871091f8f",
   "metadata": {},
   "outputs": [],
   "source": []
  }
 ],
 "metadata": {
  "kernelspec": {
   "display_name": "Python 3 (ipykernel)",
   "language": "python",
   "name": "python3"
  },
  "language_info": {
   "codemirror_mode": {
    "name": "ipython",
    "version": 3
   },
   "file_extension": ".py",
   "mimetype": "text/x-python",
   "name": "python",
   "nbconvert_exporter": "python",
   "pygments_lexer": "ipython3",
   "version": "3.11.6"
  }
 },
 "nbformat": 4,
 "nbformat_minor": 5
}
